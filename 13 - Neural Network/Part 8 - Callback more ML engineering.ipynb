{
 "cells": [
  {
   "cell_type": "code",
   "execution_count": 1,
   "metadata": {},
   "outputs": [
    {
     "data": {
      "text/plain": [
       "device(type='cuda')"
      ]
     },
     "execution_count": 1,
     "metadata": {},
     "output_type": "execute_result"
    }
   ],
   "source": [
    "import torch\n",
    "from torch import nn, optim\n",
    "from jcopdl.callback import Callback, set_config\n",
    "\n",
    "device = torch.device(\"cuda\" if torch.cuda.is_available else \"cpu\")\n",
    "device"
   ]
  },
  {
   "cell_type": "markdown",
   "metadata": {},
   "source": [
    "# Dataset & Dataloader"
   ]
  },
  {
   "cell_type": "code",
   "execution_count": 2,
   "metadata": {},
   "outputs": [],
   "source": [
    "from torchvision import datasets, transforms\n",
    "from torch.utils.data import DataLoader"
   ]
  },
  {
   "cell_type": "code",
   "execution_count": 3,
   "metadata": {},
   "outputs": [],
   "source": [
    "bs = 128\n",
    "\n",
    "transform = transforms.Compose([\n",
    "    transforms.Grayscale(),\n",
    "    transforms.ToTensor()\n",
    "])\n",
    "\n",
    "train_set = datasets.ImageFolder(\"data/train/\", transform=transform)\n",
    "trainloader = DataLoader(train_set, batch_size=bs, shuffle=True, num_workers=2)\n",
    "\n",
    "test_set = datasets.ImageFolder(\"data/test/\", transform=transform)\n",
    "testloader = DataLoader(test_set, batch_size=bs, shuffle=True, num_workers=2)"
   ]
  },
  {
   "cell_type": "code",
   "execution_count": 4,
   "metadata": {},
   "outputs": [
    {
     "data": {
      "text/plain": [
       "Dataset ImageFolder\n",
       "    Number of datapoints: 40000\n",
       "    Root location: data/train/\n",
       "    StandardTransform\n",
       "Transform: Compose(\n",
       "               Grayscale(num_output_channels=1)\n",
       "               ToTensor()\n",
       "           )"
      ]
     },
     "execution_count": 4,
     "metadata": {},
     "output_type": "execute_result"
    }
   ],
   "source": [
    "train_set"
   ]
  },
  {
   "cell_type": "code",
   "execution_count": 5,
   "metadata": {},
   "outputs": [
    {
     "data": {
      "text/plain": [
       "torch.Size([128, 1, 28, 28])"
      ]
     },
     "execution_count": 5,
     "metadata": {},
     "output_type": "execute_result"
    }
   ],
   "source": [
    "feature, target = next(iter(trainloader))\n",
    "feature.shape"
   ]
  },
  {
   "cell_type": "code",
   "execution_count": 6,
   "metadata": {},
   "outputs": [
    {
     "data": {
      "text/plain": [
       "['Ankle boot',\n",
       " 'Bag',\n",
       " 'Coat',\n",
       " 'Dress',\n",
       " 'Pullover',\n",
       " 'Sandal',\n",
       " 'Shirt',\n",
       " 'Sneaker',\n",
       " 'T-shirt or Top',\n",
       " 'Trouser']"
      ]
     },
     "execution_count": 6,
     "metadata": {},
     "output_type": "execute_result"
    }
   ],
   "source": [
    "label2cat = train_set.classes\n",
    "label2cat"
   ]
  },
  {
   "cell_type": "markdown",
   "metadata": {},
   "source": [
    "# Arsitektur & Config"
   ]
  },
  {
   "cell_type": "code",
   "execution_count": 7,
   "metadata": {},
   "outputs": [],
   "source": [
    "from jcopdl.layers import linear_block"
   ]
  },
  {
   "cell_type": "code",
   "execution_count": 8,
   "metadata": {},
   "outputs": [],
   "source": [
    "class FashionClassifier(nn.Module):\n",
    "    def __init__(self, input_size, n1, n2, output_size, dropout=0.2):\n",
    "        super().__init__()\n",
    "        self.fc = nn.Sequential(\n",
    "            nn.Flatten(),\n",
    "            linear_block(input_size, n1, dropout =dropout),\n",
    "            linear_block(n1, n2, dropout =dropout),\n",
    "            linear_block(n2, output_size, activation=\"lsoftmax\")\n",
    "        )\n",
    "        \n",
    "    def forward(self, x):\n",
    "        return self.fc(x)"
   ]
  },
  {
   "cell_type": "code",
   "execution_count": 9,
   "metadata": {},
   "outputs": [],
   "source": [
    "config = set_config({\n",
    "    \"input_size\": 784,\n",
    "    \"n1\": 256,\n",
    "    \"n2\": 64,\n",
    "    \"output_size\": len(train_set.classes),\n",
    "    \"dropout\": 0.2\n",
    "})"
   ]
  },
  {
   "cell_type": "markdown",
   "metadata": {},
   "source": [
    "# Training Preparation -> MCOC"
   ]
  },
  {
   "cell_type": "code",
   "execution_count": 10,
   "metadata": {},
   "outputs": [],
   "source": [
    "model = FashionClassifier(config.input_size, config.n1, config.n2, config.output_size, config.dropout).to(device)\n",
    "criterion = nn.NLLLoss()\n",
    "optimizer = optim.AdamW(model.parameters(), lr=0.001)\n",
    "callback = Callback(model, config, outdir=\"model\")"
   ]
  },
  {
   "cell_type": "markdown",
   "metadata": {},
   "source": [
    "# Training"
   ]
  },
  {
   "cell_type": "code",
   "execution_count": 11,
   "metadata": {},
   "outputs": [],
   "source": [
    "from tqdm.auto import tqdm\n",
    "\n",
    "def loop_fn(mode, dataset, dataloader, model, criterion, optimizer, device):\n",
    "    if mode == 'train':\n",
    "        model.train()\n",
    "    elif mode == 'test':\n",
    "        model.eval()\n",
    "    cost = correct = 0\n",
    "    for feature, target in tqdm(dataloader, desc=mode.title()):\n",
    "        feature, target = feature.to(device), target.to(device)\n",
    "        output = model(feature)\n",
    "        loss = criterion(output, target)\n",
    "                \n",
    "        if mode == 'train':\n",
    "            loss.backward()\n",
    "            optimizer.step()\n",
    "            optimizer.zero_grad()\n",
    "                    \n",
    "        cost += loss.item() * feature.shape[0]\n",
    "        correct += (output.argmax(1) == target).sum().item()\n",
    "    cost = cost / len(dataset)\n",
    "    acc = correct / len(dataset)\n",
    "    return cost, acc"
   ]
  },
  {
   "cell_type": "code",
   "execution_count": 12,
   "metadata": {},
   "outputs": [
    {
     "data": {
      "application/vnd.jupyter.widget-view+json": {
       "model_id": "a560fdc3d3cd4c9788f346f4c4df19f7",
       "version_major": 2,
       "version_minor": 0
      },
      "text/plain": [
       "HBox(children=(FloatProgress(value=0.0, description='Train', max=313.0, style=ProgressStyle(description_width=…"
      ]
     },
     "metadata": {},
     "output_type": "display_data"
    },
    {
     "name": "stdout",
     "output_type": "stream",
     "text": [
      "\n"
     ]
    },
    {
     "data": {
      "application/vnd.jupyter.widget-view+json": {
       "model_id": "dabba9b64ddd44e0b9cc8ae0125a2a53",
       "version_major": 2,
       "version_minor": 0
      },
      "text/plain": [
       "HBox(children=(FloatProgress(value=0.0, description='Test', max=157.0, style=ProgressStyle(description_width='…"
      ]
     },
     "metadata": {},
     "output_type": "display_data"
    },
    {
     "name": "stdout",
     "output_type": "stream",
     "text": [
      "\n",
      "\n",
      "Epoch     1\n",
      "Train_cost  = 0.7369 | Test_cost  = 0.4682 | Train_score = 0.7382 | Test_score = 0.8347 |\n"
     ]
    },
    {
     "data": {
      "application/vnd.jupyter.widget-view+json": {
       "model_id": "ddaacaf08779463aad0216f89c9edf67",
       "version_major": 2,
       "version_minor": 0
      },
      "text/plain": [
       "HBox(children=(FloatProgress(value=0.0, description='Train', max=313.0, style=ProgressStyle(description_width=…"
      ]
     },
     "metadata": {},
     "output_type": "display_data"
    },
    {
     "name": "stdout",
     "output_type": "stream",
     "text": [
      "\n"
     ]
    },
    {
     "data": {
      "application/vnd.jupyter.widget-view+json": {
       "model_id": "beee311b8a7f4f3698731b8f34a560d6",
       "version_major": 2,
       "version_minor": 0
      },
      "text/plain": [
       "HBox(children=(FloatProgress(value=0.0, description='Test', max=157.0, style=ProgressStyle(description_width='…"
      ]
     },
     "metadata": {},
     "output_type": "display_data"
    },
    {
     "name": "stdout",
     "output_type": "stream",
     "text": [
      "\n",
      "\n",
      "Epoch     2\n",
      "Train_cost  = 0.4777 | Test_cost  = 0.4202 | Train_score = 0.8290 | Test_score = 0.8456 |\n"
     ]
    },
    {
     "data": {
      "application/vnd.jupyter.widget-view+json": {
       "model_id": "c44834f4ec3f4eef8b16bd615bd397ba",
       "version_major": 2,
       "version_minor": 0
      },
      "text/plain": [
       "HBox(children=(FloatProgress(value=0.0, description='Train', max=313.0, style=ProgressStyle(description_width=…"
      ]
     },
     "metadata": {},
     "output_type": "display_data"
    },
    {
     "name": "stdout",
     "output_type": "stream",
     "text": [
      "\n"
     ]
    },
    {
     "data": {
      "application/vnd.jupyter.widget-view+json": {
       "model_id": "623612455f41419b979c9bbadb836805",
       "version_major": 2,
       "version_minor": 0
      },
      "text/plain": [
       "HBox(children=(FloatProgress(value=0.0, description='Test', max=157.0, style=ProgressStyle(description_width='…"
      ]
     },
     "metadata": {},
     "output_type": "display_data"
    },
    {
     "name": "stdout",
     "output_type": "stream",
     "text": [
      "\n",
      "\n",
      "Epoch     3\n",
      "Train_cost  = 0.4202 | Test_cost  = 0.3817 | Train_score = 0.8520 | Test_score = 0.8588 |\n"
     ]
    },
    {
     "data": {
      "application/vnd.jupyter.widget-view+json": {
       "model_id": "8a60e4bfa390431f8f9b92bec3b7f72f",
       "version_major": 2,
       "version_minor": 0
      },
      "text/plain": [
       "HBox(children=(FloatProgress(value=0.0, description='Train', max=313.0, style=ProgressStyle(description_width=…"
      ]
     },
     "metadata": {},
     "output_type": "display_data"
    },
    {
     "name": "stdout",
     "output_type": "stream",
     "text": [
      "\n"
     ]
    },
    {
     "data": {
      "application/vnd.jupyter.widget-view+json": {
       "model_id": "57637574324944779d3307a59acf1953",
       "version_major": 2,
       "version_minor": 0
      },
      "text/plain": [
       "HBox(children=(FloatProgress(value=0.0, description='Test', max=157.0, style=ProgressStyle(description_width='…"
      ]
     },
     "metadata": {},
     "output_type": "display_data"
    },
    {
     "name": "stdout",
     "output_type": "stream",
     "text": [
      "\n",
      "\n",
      "Epoch     4\n",
      "Train_cost  = 0.3920 | Test_cost  = 0.3709 | Train_score = 0.8608 | Test_score = 0.8620 |\n"
     ]
    },
    {
     "data": {
      "application/vnd.jupyter.widget-view+json": {
       "model_id": "ca9941fec0a44bc9abde91114d345619",
       "version_major": 2,
       "version_minor": 0
      },
      "text/plain": [
       "HBox(children=(FloatProgress(value=0.0, description='Train', max=313.0, style=ProgressStyle(description_width=…"
      ]
     },
     "metadata": {},
     "output_type": "display_data"
    },
    {
     "name": "stdout",
     "output_type": "stream",
     "text": [
      "\n"
     ]
    },
    {
     "data": {
      "application/vnd.jupyter.widget-view+json": {
       "model_id": "f1fff2c2678c481f9e057ab7f1943bec",
       "version_major": 2,
       "version_minor": 0
      },
      "text/plain": [
       "HBox(children=(FloatProgress(value=0.0, description='Test', max=157.0, style=ProgressStyle(description_width='…"
      ]
     },
     "metadata": {},
     "output_type": "display_data"
    },
    {
     "name": "stdout",
     "output_type": "stream",
     "text": [
      "\n",
      "\n",
      "Epoch     5\n",
      "Train_cost  = 0.3680 | Test_cost  = 0.3418 | Train_score = 0.8679 | Test_score = 0.8746 |\n"
     ]
    },
    {
     "data": {
      "application/vnd.jupyter.widget-view+json": {
       "model_id": "2ed47da3f0ce42d3bc745fc3f86fe542",
       "version_major": 2,
       "version_minor": 0
      },
      "text/plain": [
       "HBox(children=(FloatProgress(value=0.0, description='Train', max=313.0, style=ProgressStyle(description_width=…"
      ]
     },
     "metadata": {},
     "output_type": "display_data"
    },
    {
     "name": "stdout",
     "output_type": "stream",
     "text": [
      "\n"
     ]
    },
    {
     "data": {
      "application/vnd.jupyter.widget-view+json": {
       "model_id": "72c75618967a437bbaa5194ab35b3d17",
       "version_major": 2,
       "version_minor": 0
      },
      "text/plain": [
       "HBox(children=(FloatProgress(value=0.0, description='Test', max=157.0, style=ProgressStyle(description_width='…"
      ]
     },
     "metadata": {},
     "output_type": "display_data"
    },
    {
     "name": "stdout",
     "output_type": "stream",
     "text": [
      "\n",
      "\n",
      "Epoch     6\n",
      "Train_cost  = 0.3515 | Test_cost  = 0.3436 | Train_score = 0.8724 | Test_score = 0.8725 |\n",
      "\u001b[31m==> EarlyStop patience =  1 | Best test_score: 0.8746\u001b[0m\n"
     ]
    },
    {
     "data": {
      "application/vnd.jupyter.widget-view+json": {
       "model_id": "ed5257b418df4b319e3140fe40c4e119",
       "version_major": 2,
       "version_minor": 0
      },
      "text/plain": [
       "HBox(children=(FloatProgress(value=0.0, description='Train', max=313.0, style=ProgressStyle(description_width=…"
      ]
     },
     "metadata": {},
     "output_type": "display_data"
    },
    {
     "name": "stdout",
     "output_type": "stream",
     "text": [
      "\n"
     ]
    },
    {
     "data": {
      "application/vnd.jupyter.widget-view+json": {
       "model_id": "3e548eb8f4904f75b485ee8a41c2c2af",
       "version_major": 2,
       "version_minor": 0
      },
      "text/plain": [
       "HBox(children=(FloatProgress(value=0.0, description='Test', max=157.0, style=ProgressStyle(description_width='…"
      ]
     },
     "metadata": {},
     "output_type": "display_data"
    },
    {
     "name": "stdout",
     "output_type": "stream",
     "text": [
      "\n",
      "\n",
      "Epoch     7\n",
      "Train_cost  = 0.3369 | Test_cost  = 0.3316 | Train_score = 0.8782 | Test_score = 0.8784 |\n"
     ]
    },
    {
     "data": {
      "application/vnd.jupyter.widget-view+json": {
       "model_id": "a29476ac11614fd691da1fe89f143a3f",
       "version_major": 2,
       "version_minor": 0
      },
      "text/plain": [
       "HBox(children=(FloatProgress(value=0.0, description='Train', max=313.0, style=ProgressStyle(description_width=…"
      ]
     },
     "metadata": {},
     "output_type": "display_data"
    },
    {
     "name": "stdout",
     "output_type": "stream",
     "text": [
      "\n"
     ]
    },
    {
     "data": {
      "application/vnd.jupyter.widget-view+json": {
       "model_id": "b48d841967844e9a9207411e0e435b82",
       "version_major": 2,
       "version_minor": 0
      },
      "text/plain": [
       "HBox(children=(FloatProgress(value=0.0, description='Test', max=157.0, style=ProgressStyle(description_width='…"
      ]
     },
     "metadata": {},
     "output_type": "display_data"
    },
    {
     "name": "stdout",
     "output_type": "stream",
     "text": [
      "\n",
      "\n",
      "Epoch     8\n",
      "Train_cost  = 0.3287 | Test_cost  = 0.3283 | Train_score = 0.8805 | Test_score = 0.8788 |\n"
     ]
    },
    {
     "data": {
      "application/vnd.jupyter.widget-view+json": {
       "model_id": "4e4ce2fe50714b74816e667950f4d2a8",
       "version_major": 2,
       "version_minor": 0
      },
      "text/plain": [
       "HBox(children=(FloatProgress(value=0.0, description='Train', max=313.0, style=ProgressStyle(description_width=…"
      ]
     },
     "metadata": {},
     "output_type": "display_data"
    },
    {
     "name": "stdout",
     "output_type": "stream",
     "text": [
      "\n"
     ]
    },
    {
     "data": {
      "application/vnd.jupyter.widget-view+json": {
       "model_id": "0c9ce56b4a9f4ad0a1eecb449f3dc265",
       "version_major": 2,
       "version_minor": 0
      },
      "text/plain": [
       "HBox(children=(FloatProgress(value=0.0, description='Test', max=157.0, style=ProgressStyle(description_width='…"
      ]
     },
     "metadata": {},
     "output_type": "display_data"
    },
    {
     "name": "stdout",
     "output_type": "stream",
     "text": [
      "\n",
      "\n",
      "Epoch     9\n",
      "Train_cost  = 0.3152 | Test_cost  = 0.3191 | Train_score = 0.8855 | Test_score = 0.8829 |\n"
     ]
    },
    {
     "data": {
      "application/vnd.jupyter.widget-view+json": {
       "model_id": "81f09c57eabd4f49a3eeed1fcd7252c8",
       "version_major": 2,
       "version_minor": 0
      },
      "text/plain": [
       "HBox(children=(FloatProgress(value=0.0, description='Train', max=313.0, style=ProgressStyle(description_width=…"
      ]
     },
     "metadata": {},
     "output_type": "display_data"
    },
    {
     "name": "stdout",
     "output_type": "stream",
     "text": [
      "\n"
     ]
    },
    {
     "data": {
      "application/vnd.jupyter.widget-view+json": {
       "model_id": "1feeab424ce04ead86babcd6f4ba7738",
       "version_major": 2,
       "version_minor": 0
      },
      "text/plain": [
       "HBox(children=(FloatProgress(value=0.0, description='Test', max=157.0, style=ProgressStyle(description_width='…"
      ]
     },
     "metadata": {},
     "output_type": "display_data"
    },
    {
     "name": "stdout",
     "output_type": "stream",
     "text": [
      "\n",
      "\n",
      "Epoch    10\n",
      "Train_cost  = 0.3041 | Test_cost  = 0.3153 | Train_score = 0.8884 | Test_score = 0.8823 |\n",
      "\u001b[31m==> EarlyStop patience =  1 | Best test_score: 0.8829\u001b[0m\n"
     ]
    },
    {
     "data": {
      "application/vnd.jupyter.widget-view+json": {
       "model_id": "fdbb8c4b89ae47559ef50ff5a2ad6880",
       "version_major": 2,
       "version_minor": 0
      },
      "text/plain": [
       "HBox(children=(FloatProgress(value=0.0, description='Train', max=313.0, style=ProgressStyle(description_width=…"
      ]
     },
     "metadata": {},
     "output_type": "display_data"
    },
    {
     "name": "stdout",
     "output_type": "stream",
     "text": [
      "\n"
     ]
    },
    {
     "data": {
      "application/vnd.jupyter.widget-view+json": {
       "model_id": "4404a252f6f0465db7e233288d708f92",
       "version_major": 2,
       "version_minor": 0
      },
      "text/plain": [
       "HBox(children=(FloatProgress(value=0.0, description='Test', max=157.0, style=ProgressStyle(description_width='…"
      ]
     },
     "metadata": {},
     "output_type": "display_data"
    },
    {
     "name": "stdout",
     "output_type": "stream",
     "text": [
      "\n",
      "\n",
      "Epoch    11\n",
      "Train_cost  = 0.3041 | Test_cost  = 0.3123 | Train_score = 0.8892 | Test_score = 0.8858 |\n"
     ]
    },
    {
     "data": {
      "application/vnd.jupyter.widget-view+json": {
       "model_id": "2f9a85d2529348cc8906b29e3df6a18a",
       "version_major": 2,
       "version_minor": 0
      },
      "text/plain": [
       "HBox(children=(FloatProgress(value=0.0, description='Train', max=313.0, style=ProgressStyle(description_width=…"
      ]
     },
     "metadata": {},
     "output_type": "display_data"
    },
    {
     "name": "stdout",
     "output_type": "stream",
     "text": [
      "\n"
     ]
    },
    {
     "data": {
      "application/vnd.jupyter.widget-view+json": {
       "model_id": "8a75e1ea969f4229a10acbf1b644912b",
       "version_major": 2,
       "version_minor": 0
      },
      "text/plain": [
       "HBox(children=(FloatProgress(value=0.0, description='Test', max=157.0, style=ProgressStyle(description_width='…"
      ]
     },
     "metadata": {},
     "output_type": "display_data"
    },
    {
     "name": "stdout",
     "output_type": "stream",
     "text": [
      "\n",
      "\n",
      "Epoch    12\n",
      "Train_cost  = 0.2893 | Test_cost  = 0.3232 | Train_score = 0.8942 | Test_score = 0.8814 |\n",
      "\u001b[31m==> EarlyStop patience =  1 | Best test_score: 0.8858\u001b[0m\n"
     ]
    },
    {
     "data": {
      "application/vnd.jupyter.widget-view+json": {
       "model_id": "f54830d8d59141adb0c272d4a3f72c7b",
       "version_major": 2,
       "version_minor": 0
      },
      "text/plain": [
       "HBox(children=(FloatProgress(value=0.0, description='Train', max=313.0, style=ProgressStyle(description_width=…"
      ]
     },
     "metadata": {},
     "output_type": "display_data"
    },
    {
     "name": "stdout",
     "output_type": "stream",
     "text": [
      "\n"
     ]
    },
    {
     "data": {
      "application/vnd.jupyter.widget-view+json": {
       "model_id": "99ccab71df2f4478bdaf8d80bd89c269",
       "version_major": 2,
       "version_minor": 0
      },
      "text/plain": [
       "HBox(children=(FloatProgress(value=0.0, description='Test', max=157.0, style=ProgressStyle(description_width='…"
      ]
     },
     "metadata": {},
     "output_type": "display_data"
    },
    {
     "name": "stdout",
     "output_type": "stream",
     "text": [
      "\n",
      "\n",
      "Epoch    13\n",
      "Train_cost  = 0.2848 | Test_cost  = 0.3261 | Train_score = 0.8939 | Test_score = 0.8813 |\n",
      "\u001b[31m==> EarlyStop patience =  2 | Best test_score: 0.8858\u001b[0m\n"
     ]
    },
    {
     "data": {
      "application/vnd.jupyter.widget-view+json": {
       "model_id": "5214c0a97cf140e09cb8f20d91170697",
       "version_major": 2,
       "version_minor": 0
      },
      "text/plain": [
       "HBox(children=(FloatProgress(value=0.0, description='Train', max=313.0, style=ProgressStyle(description_width=…"
      ]
     },
     "metadata": {},
     "output_type": "display_data"
    },
    {
     "name": "stdout",
     "output_type": "stream",
     "text": [
      "\n"
     ]
    },
    {
     "data": {
      "application/vnd.jupyter.widget-view+json": {
       "model_id": "60b1c89ac52f4ed284cbbc862f6b4fbc",
       "version_major": 2,
       "version_minor": 0
      },
      "text/plain": [
       "HBox(children=(FloatProgress(value=0.0, description='Test', max=157.0, style=ProgressStyle(description_width='…"
      ]
     },
     "metadata": {},
     "output_type": "display_data"
    },
    {
     "name": "stdout",
     "output_type": "stream",
     "text": [
      "\n",
      "\n",
      "Epoch    14\n",
      "Train_cost  = 0.2772 | Test_cost  = 0.3110 | Train_score = 0.8984 | Test_score = 0.8880 |\n"
     ]
    },
    {
     "data": {
      "application/vnd.jupyter.widget-view+json": {
       "model_id": "68ef86f0abd2433c932be1758bcdefa6",
       "version_major": 2,
       "version_minor": 0
      },
      "text/plain": [
       "HBox(children=(FloatProgress(value=0.0, description='Train', max=313.0, style=ProgressStyle(description_width=…"
      ]
     },
     "metadata": {},
     "output_type": "display_data"
    },
    {
     "name": "stdout",
     "output_type": "stream",
     "text": [
      "\n"
     ]
    },
    {
     "data": {
      "application/vnd.jupyter.widget-view+json": {
       "model_id": "6e6a9adda2f84e0d9dcd4b541a066a8c",
       "version_major": 2,
       "version_minor": 0
      },
      "text/plain": [
       "HBox(children=(FloatProgress(value=0.0, description='Test', max=157.0, style=ProgressStyle(description_width='…"
      ]
     },
     "metadata": {},
     "output_type": "display_data"
    },
    {
     "name": "stdout",
     "output_type": "stream",
     "text": [
      "\n",
      "\n",
      "Epoch    15\n",
      "Train_cost  = 0.2712 | Test_cost  = 0.3179 | Train_score = 0.8991 | Test_score = 0.8832 |\n",
      "\u001b[31m==> EarlyStop patience =  1 | Best test_score: 0.8880\u001b[0m\n"
     ]
    },
    {
     "data": {
      "application/vnd.jupyter.widget-view+json": {
       "model_id": "c730501215454ed18b5452148f3be40a",
       "version_major": 2,
       "version_minor": 0
      },
      "text/plain": [
       "HBox(children=(FloatProgress(value=0.0, description='Train', max=313.0, style=ProgressStyle(description_width=…"
      ]
     },
     "metadata": {},
     "output_type": "display_data"
    },
    {
     "name": "stdout",
     "output_type": "stream",
     "text": [
      "\n"
     ]
    },
    {
     "data": {
      "application/vnd.jupyter.widget-view+json": {
       "model_id": "02dbb5386aed48779af8ad9d63f68aa4",
       "version_major": 2,
       "version_minor": 0
      },
      "text/plain": [
       "HBox(children=(FloatProgress(value=0.0, description='Test', max=157.0, style=ProgressStyle(description_width='…"
      ]
     },
     "metadata": {},
     "output_type": "display_data"
    },
    {
     "name": "stdout",
     "output_type": "stream",
     "text": [
      "\n",
      "\n",
      "Epoch    16\n",
      "Train_cost  = 0.2656 | Test_cost  = 0.3214 | Train_score = 0.9023 | Test_score = 0.8825 |\n",
      "\u001b[31m==> EarlyStop patience =  2 | Best test_score: 0.8880\u001b[0m\n"
     ]
    },
    {
     "data": {
      "application/vnd.jupyter.widget-view+json": {
       "model_id": "cf1a0de4ab89443093c717df26f9bbd9",
       "version_major": 2,
       "version_minor": 0
      },
      "text/plain": [
       "HBox(children=(FloatProgress(value=0.0, description='Train', max=313.0, style=ProgressStyle(description_width=…"
      ]
     },
     "metadata": {},
     "output_type": "display_data"
    },
    {
     "name": "stdout",
     "output_type": "stream",
     "text": [
      "\n"
     ]
    },
    {
     "data": {
      "application/vnd.jupyter.widget-view+json": {
       "model_id": "7c8d3602539b4d2dac0633056af6018f",
       "version_major": 2,
       "version_minor": 0
      },
      "text/plain": [
       "HBox(children=(FloatProgress(value=0.0, description='Test', max=157.0, style=ProgressStyle(description_width='…"
      ]
     },
     "metadata": {},
     "output_type": "display_data"
    },
    {
     "name": "stdout",
     "output_type": "stream",
     "text": [
      "\n",
      "\n",
      "Epoch    17\n",
      "Train_cost  = 0.2615 | Test_cost  = 0.3181 | Train_score = 0.9041 | Test_score = 0.8854 |\n",
      "\u001b[31m==> EarlyStop patience =  3 | Best test_score: 0.8880\u001b[0m\n"
     ]
    },
    {
     "data": {
      "application/vnd.jupyter.widget-view+json": {
       "model_id": "a35955dd61f04a0bbaf5899a438e454d",
       "version_major": 2,
       "version_minor": 0
      },
      "text/plain": [
       "HBox(children=(FloatProgress(value=0.0, description='Train', max=313.0, style=ProgressStyle(description_width=…"
      ]
     },
     "metadata": {},
     "output_type": "display_data"
    },
    {
     "name": "stdout",
     "output_type": "stream",
     "text": [
      "\n"
     ]
    },
    {
     "data": {
      "application/vnd.jupyter.widget-view+json": {
       "model_id": "a22c8545c02d4d21856473d898a4a33a",
       "version_major": 2,
       "version_minor": 0
      },
      "text/plain": [
       "HBox(children=(FloatProgress(value=0.0, description='Test', max=157.0, style=ProgressStyle(description_width='…"
      ]
     },
     "metadata": {},
     "output_type": "display_data"
    },
    {
     "name": "stdout",
     "output_type": "stream",
     "text": [
      "\n",
      "\n",
      "Epoch    18\n",
      "Train_cost  = 0.2557 | Test_cost  = 0.3027 | Train_score = 0.9054 | Test_score = 0.8927 |\n"
     ]
    },
    {
     "data": {
      "application/vnd.jupyter.widget-view+json": {
       "model_id": "3e4de39324674a3faa696df8289f0677",
       "version_major": 2,
       "version_minor": 0
      },
      "text/plain": [
       "HBox(children=(FloatProgress(value=0.0, description='Train', max=313.0, style=ProgressStyle(description_width=…"
      ]
     },
     "metadata": {},
     "output_type": "display_data"
    },
    {
     "name": "stdout",
     "output_type": "stream",
     "text": [
      "\n"
     ]
    },
    {
     "data": {
      "application/vnd.jupyter.widget-view+json": {
       "model_id": "747fbaf188f146f8bd8052f6e64a0d51",
       "version_major": 2,
       "version_minor": 0
      },
      "text/plain": [
       "HBox(children=(FloatProgress(value=0.0, description='Test', max=157.0, style=ProgressStyle(description_width='…"
      ]
     },
     "metadata": {},
     "output_type": "display_data"
    },
    {
     "name": "stdout",
     "output_type": "stream",
     "text": [
      "\n",
      "\n",
      "Epoch    19\n",
      "Train_cost  = 0.2510 | Test_cost  = 0.3099 | Train_score = 0.9060 | Test_score = 0.8879 |\n",
      "\u001b[31m==> EarlyStop patience =  1 | Best test_score: 0.8927\u001b[0m\n"
     ]
    },
    {
     "data": {
      "application/vnd.jupyter.widget-view+json": {
       "model_id": "521d606ab4ea49a9bba108d9b1516b1f",
       "version_major": 2,
       "version_minor": 0
      },
      "text/plain": [
       "HBox(children=(FloatProgress(value=0.0, description='Train', max=313.0, style=ProgressStyle(description_width=…"
      ]
     },
     "metadata": {},
     "output_type": "display_data"
    },
    {
     "name": "stdout",
     "output_type": "stream",
     "text": [
      "\n"
     ]
    },
    {
     "data": {
      "application/vnd.jupyter.widget-view+json": {
       "model_id": "93a006c983bc4037b404a7a49b5a7179",
       "version_major": 2,
       "version_minor": 0
      },
      "text/plain": [
       "HBox(children=(FloatProgress(value=0.0, description='Test', max=157.0, style=ProgressStyle(description_width='…"
      ]
     },
     "metadata": {},
     "output_type": "display_data"
    },
    {
     "name": "stdout",
     "output_type": "stream",
     "text": [
      "\n",
      "\n",
      "Epoch    20\n",
      "Train_cost  = 0.2493 | Test_cost  = 0.3093 | Train_score = 0.9079 | Test_score = 0.8860 |\n"
     ]
    },
    {
     "data": {
      "image/png": "[encoded data removed]",
      "text/plain": [
       "<Figure size 576x360 with 1 Axes>"
      ]
     },
     "metadata": {
      "needs_background": "light"
     },
     "output_type": "display_data"
    },
    {
     "data": {
      "image/png": "[encoded data removed]",
      "text/plain": [
       "<Figure size 576x360 with 1 Axes>"
      ]
     },
     "metadata": {
      "needs_background": "light"
     },
     "output_type": "display_data"
    },
    {
     "name": "stdout",
     "output_type": "stream",
     "text": [
      "\u001b[31m==> EarlyStop patience =  2 | Best test_score: 0.8927\u001b[0m\n"
     ]
    },
    {
     "data": {
      "application/vnd.jupyter.widget-view+json": {
       "model_id": "45ef85dd245b4457805693c1c40e9222",
       "version_major": 2,
       "version_minor": 0
      },
      "text/plain": [
       "HBox(children=(FloatProgress(value=0.0, description='Train', max=313.0, style=ProgressStyle(description_width=…"
      ]
     },
     "metadata": {},
     "output_type": "display_data"
    },
    {
     "name": "stdout",
     "output_type": "stream",
     "text": [
      "\n"
     ]
    },
    {
     "data": {
      "application/vnd.jupyter.widget-view+json": {
       "model_id": "55da0e96916e47baa685834a1b56a555",
       "version_major": 2,
       "version_minor": 0
      },
      "text/plain": [
       "HBox(children=(FloatProgress(value=0.0, description='Test', max=157.0, style=ProgressStyle(description_width='…"
      ]
     },
     "metadata": {},
     "output_type": "display_data"
    },
    {
     "name": "stdout",
     "output_type": "stream",
     "text": [
      "\n",
      "\n",
      "Epoch    21\n",
      "Train_cost  = 0.2402 | Test_cost  = 0.3144 | Train_score = 0.9112 | Test_score = 0.8899 |\n",
      "\u001b[31m==> EarlyStop patience =  3 | Best test_score: 0.8927\u001b[0m\n"
     ]
    },
    {
     "data": {
      "application/vnd.jupyter.widget-view+json": {
       "model_id": "c27d6ec8f09a40d097abb8be6e0b5483",
       "version_major": 2,
       "version_minor": 0
      },
      "text/plain": [
       "HBox(children=(FloatProgress(value=0.0, description='Train', max=313.0, style=ProgressStyle(description_width=…"
      ]
     },
     "metadata": {},
     "output_type": "display_data"
    },
    {
     "name": "stdout",
     "output_type": "stream",
     "text": [
      "\n"
     ]
    },
    {
     "data": {
      "application/vnd.jupyter.widget-view+json": {
       "model_id": "f2462f1c466a4462931116f28a3a5c8e",
       "version_major": 2,
       "version_minor": 0
      },
      "text/plain": [
       "HBox(children=(FloatProgress(value=0.0, description='Test', max=157.0, style=ProgressStyle(description_width='…"
      ]
     },
     "metadata": {},
     "output_type": "display_data"
    },
    {
     "name": "stdout",
     "output_type": "stream",
     "text": [
      "\n",
      "\n",
      "Epoch    22\n",
      "Train_cost  = 0.2360 | Test_cost  = 0.3076 | Train_score = 0.9105 | Test_score = 0.8928 |\n"
     ]
    },
    {
     "data": {
      "application/vnd.jupyter.widget-view+json": {
       "model_id": "017f0320b24c4ef68003cd93b754f3ac",
       "version_major": 2,
       "version_minor": 0
      },
      "text/plain": [
       "HBox(children=(FloatProgress(value=0.0, description='Train', max=313.0, style=ProgressStyle(description_width=…"
      ]
     },
     "metadata": {},
     "output_type": "display_data"
    },
    {
     "name": "stdout",
     "output_type": "stream",
     "text": [
      "\n"
     ]
    },
    {
     "data": {
      "application/vnd.jupyter.widget-view+json": {
       "model_id": "3360dca1b2544437ab29b6b32f755c2a",
       "version_major": 2,
       "version_minor": 0
      },
      "text/plain": [
       "HBox(children=(FloatProgress(value=0.0, description='Test', max=157.0, style=ProgressStyle(description_width='…"
      ]
     },
     "metadata": {},
     "output_type": "display_data"
    },
    {
     "name": "stdout",
     "output_type": "stream",
     "text": [
      "\n",
      "\n",
      "Epoch    23\n",
      "Train_cost  = 0.2344 | Test_cost  = 0.3102 | Train_score = 0.9133 | Test_score = 0.8899 |\n",
      "\u001b[31m==> EarlyStop patience =  1 | Best test_score: 0.8928\u001b[0m\n"
     ]
    },
    {
     "data": {
      "application/vnd.jupyter.widget-view+json": {
       "model_id": "279bc98e146c4e1ca19df488be6aaf74",
       "version_major": 2,
       "version_minor": 0
      },
      "text/plain": [
       "HBox(children=(FloatProgress(value=0.0, description='Train', max=313.0, style=ProgressStyle(description_width=…"
      ]
     },
     "metadata": {},
     "output_type": "display_data"
    },
    {
     "name": "stdout",
     "output_type": "stream",
     "text": [
      "\n"
     ]
    },
    {
     "data": {
      "application/vnd.jupyter.widget-view+json": {
       "model_id": "82e5a9939bb640fb8e9b956944dbef20",
       "version_major": 2,
       "version_minor": 0
      },
      "text/plain": [
       "HBox(children=(FloatProgress(value=0.0, description='Test', max=157.0, style=ProgressStyle(description_width='…"
      ]
     },
     "metadata": {},
     "output_type": "display_data"
    },
    {
     "name": "stdout",
     "output_type": "stream",
     "text": [
      "\n",
      "\n",
      "Epoch    24\n",
      "Train_cost  = 0.2294 | Test_cost  = 0.3237 | Train_score = 0.9146 | Test_score = 0.8870 |\n",
      "\u001b[31m==> EarlyStop patience =  2 | Best test_score: 0.8928\u001b[0m\n"
     ]
    },
    {
     "data": {
      "application/vnd.jupyter.widget-view+json": {
       "model_id": "1ac47b21afb44d5db33b94f6d92f5579",
       "version_major": 2,
       "version_minor": 0
      },
      "text/plain": [
       "HBox(children=(FloatProgress(value=0.0, description='Train', max=313.0, style=ProgressStyle(description_width=…"
      ]
     },
     "metadata": {},
     "output_type": "display_data"
    },
    {
     "name": "stdout",
     "output_type": "stream",
     "text": [
      "\n"
     ]
    },
    {
     "data": {
      "application/vnd.jupyter.widget-view+json": {
       "model_id": "ccc632634c5a4357a2e157ddb38961ed",
       "version_major": 2,
       "version_minor": 0
      },
      "text/plain": [
       "HBox(children=(FloatProgress(value=0.0, description='Test', max=157.0, style=ProgressStyle(description_width='…"
      ]
     },
     "metadata": {},
     "output_type": "display_data"
    },
    {
     "name": "stdout",
     "output_type": "stream",
     "text": [
      "\n",
      "\n",
      "Epoch    25\n",
      "Train_cost  = 0.2256 | Test_cost  = 0.3116 | Train_score = 0.9156 | Test_score = 0.8924 |\n",
      "\u001b[31m==> EarlyStop patience =  3 | Best test_score: 0.8928\u001b[0m\n"
     ]
    },
    {
     "data": {
      "application/vnd.jupyter.widget-view+json": {
       "model_id": "193127c17b6b4b4fbfbed2e4220fef22",
       "version_major": 2,
       "version_minor": 0
      },
      "text/plain": [
       "HBox(children=(FloatProgress(value=0.0, description='Train', max=313.0, style=ProgressStyle(description_width=…"
      ]
     },
     "metadata": {},
     "output_type": "display_data"
    },
    {
     "name": "stdout",
     "output_type": "stream",
     "text": [
      "\n"
     ]
    },
    {
     "data": {
      "application/vnd.jupyter.widget-view+json": {
       "model_id": "2eb35193b76546f5b1fb3bcda846aba6",
       "version_major": 2,
       "version_minor": 0
      },
      "text/plain": [
       "HBox(children=(FloatProgress(value=0.0, description='Test', max=157.0, style=ProgressStyle(description_width='…"
      ]
     },
     "metadata": {},
     "output_type": "display_data"
    },
    {
     "name": "stdout",
     "output_type": "stream",
     "text": [
      "\n",
      "\n",
      "Epoch    26\n",
      "Train_cost  = 0.2249 | Test_cost  = 0.3201 | Train_score = 0.9149 | Test_score = 0.8910 |\n",
      "\u001b[31m==> EarlyStop patience =  4 | Best test_score: 0.8928\u001b[0m\n"
     ]
    },
    {
     "data": {
      "application/vnd.jupyter.widget-view+json": {
       "model_id": "862beab1fa0a4be9b6d43ecda1ab4d8f",
       "version_major": 2,
       "version_minor": 0
      },
      "text/plain": [
       "HBox(children=(FloatProgress(value=0.0, description='Train', max=313.0, style=ProgressStyle(description_width=…"
      ]
     },
     "metadata": {},
     "output_type": "display_data"
    },
    {
     "name": "stdout",
     "output_type": "stream",
     "text": [
      "\n"
     ]
    },
    {
     "data": {
      "application/vnd.jupyter.widget-view+json": {
       "model_id": "df0c04f83831402996b7c3cf21952996",
       "version_major": 2,
       "version_minor": 0
      },
      "text/plain": [
       "HBox(children=(FloatProgress(value=0.0, description='Test', max=157.0, style=ProgressStyle(description_width='…"
      ]
     },
     "metadata": {},
     "output_type": "display_data"
    },
    {
     "name": "stdout",
     "output_type": "stream",
     "text": [
      "\n",
      "\n",
      "Epoch    27\n",
      "Train_cost  = 0.2188 | Test_cost  = 0.3196 | Train_score = 0.9169 | Test_score = 0.8865 |\n",
      "\u001b[31m==> EarlyStop patience =  5 | Best test_score: 0.8928\u001b[0m\n",
      "\u001b[31m==> Execute Early Stopping at epoch: 27 | Best test_score: 0.8928\u001b[0m\n",
      "\u001b[31m==> Best model is saved at model\u001b[0m\n"
     ]
    },
    {
     "data": {
      "image/png": "[encoded data removed]",
      "text/plain": [
       "<Figure size 576x360 with 1 Axes>"
      ]
     },
     "metadata": {
      "needs_background": "light"
     },
     "output_type": "display_data"
    },
    {
     "data": {
      "image/png": "[encoded data removed]",
      "text/plain": [
       "<Figure size 576x360 with 1 Axes>"
      ]
     },
     "metadata": {
      "needs_background": "light"
     },
     "output_type": "display_data"
    }
   ],
   "source": [
    "while True:\n",
    "    train_cost, train_score = loop_fn(\"train\", train_set, trainloader, model, criterion, optimizer, device)\n",
    "    with torch.no_grad():\n",
    "        test_cost, test_score = loop_fn(\"test\", test_set, testloader, model, criterion, optimizer, device)\n",
    "    \n",
    "    # Logging\n",
    "    callback.log(train_cost, test_cost, train_score, test_score)\n",
    "    \n",
    "    # Checkpoint\n",
    "    callback.save_checkpoint()\n",
    "    \n",
    "    #Runtime Plotting\n",
    "    callback.cost_runtime_plotting()\n",
    "    callback.score_runtime_plotting()\n",
    "    \n",
    "    # Early Stopping\n",
    "    if callback.early_stopping(model, monitor=\"test_score\"):\n",
    "        callback.plot_cost()\n",
    "        callback.plot_score()\n",
    "        break\n",
    "    "
   ]
  },
  {
   "cell_type": "markdown",
   "metadata": {},
   "source": [
    "# Load Best Model"
   ]
  },
  {
   "cell_type": "code",
   "execution_count": 13,
   "metadata": {},
   "outputs": [],
   "source": [
    "weights = torch.load(\"model/weights_best.pth\", map_location=\"cpu\")\n",
    "config = torch.load(\"model/configs.pth\", map_location=\"cpu\")\n",
    "\n",
    "model = FashionClassifier(config.input_size, config.n1, config.n2, config.output_size, config.dropout)\n",
    "model.load_state_dict(weights)\n",
    "model = model.to(device)"
   ]
  },
  {
   "cell_type": "code",
   "execution_count": 16,
   "metadata": {},
   "outputs": [
    {
     "data": {
      "text/plain": [
       "OrderedDict([('fc.1.0.weight',\n",
       "              tensor([[-0.0777, -0.1926, -0.2095,  ..., -0.0035, -0.1980, -0.1258],\n",
       "                      [ 0.1318,  0.2405, -0.0095,  ...,  0.0491,  0.2793,  0.3436],\n",
       "                      [-0.2146,  0.0180, -0.3960,  ...,  0.0329, -0.2143, -0.1743],\n",
       "                      ...,\n",
       "                      [ 0.0113, -0.1791, -0.1054,  ..., -0.1850, -0.2468, -0.2666],\n",
       "                      [-0.0715, -0.0429, -0.2055,  ...,  0.0274, -0.0917, -0.1345],\n",
       "                      [ 0.1835,  0.2756,  0.1275,  ..., -0.0407,  0.2841, -0.0527]],\n",
       "                     device='cuda:0')),\n",
       "             ('fc.1.0.bias',\n",
       "              tensor([ 3.5441e-01, -2.5570e-01,  2.5517e-01,  2.5283e-01, -9.8352e-05,\n",
       "                       1.8154e-01, -1.2611e-02,  4.5139e-02,  5.1539e-01,  6.8012e-02,\n",
       "                      -1.2375e-02, -2.3264e-01,  1.3000e-01,  4.1648e-01,  2.1029e-01,\n",
       "                       3.9814e-01, -1.9306e-02,  3.1806e-01,  1.0519e-01, -1.4826e-01,\n",
       "                       2.7440e-01, -2.7749e-01,  3.2343e-01,  5.3190e-01, -4.1478e-03,\n",
       "                      -1.1046e-02,  2.2760e-01,  3.7126e-01, -1.7647e-01, -3.1053e-01,\n",
       "                      -2.1881e-01,  1.6848e-01,  1.6666e-02, -3.1199e-01, -4.3752e-01,\n",
       "                       7.0229e-03,  1.4871e-01,  4.1191e-01,  3.9278e-01, -3.8252e-01,\n",
       "                       3.4748e-03,  3.1625e-03,  2.8977e-01, -2.2593e-02,  2.7076e-01,\n",
       "                      -1.9400e-02,  1.3403e-02,  6.7884e-02,  3.3881e-01, -8.7096e-02,\n",
       "                      -1.9640e-02, -2.2939e-01,  1.0367e-01, -6.8161e-02, -2.0819e-01,\n",
       "                      -2.5316e-02,  6.9533e-02,  1.5197e-01,  3.4814e-01, -9.3977e-03,\n",
       "                      -1.1558e-01,  1.8914e-01,  3.1799e-01,  1.9379e-01,  2.5047e-01,\n",
       "                       7.0185e-02, -2.0281e-02, -5.4635e-02,  4.4609e-02,  3.2947e-01,\n",
       "                       5.1316e-01,  2.3183e-01,  3.1094e-01, -9.4522e-02,  1.4310e-02,\n",
       "                       2.5939e-01,  4.8629e-01, -1.4578e-01,  1.5872e-01,  3.2722e-02,\n",
       "                       3.8935e-01, -3.8328e-02,  3.2493e-01, -4.0063e-02,  2.2361e-01,\n",
       "                       5.4134e-02, -3.1288e-02,  7.2389e-02, -1.1313e-01,  1.0711e-01,\n",
       "                       3.5798e-01, -3.3351e-03,  3.1475e-01, -1.3866e-02,  8.0548e-02,\n",
       "                      -4.1856e-02,  3.1107e-01, -3.4034e-01,  1.1955e-01,  4.7072e-01,\n",
       "                      -2.4846e-01,  4.7132e-01,  1.8090e-02,  2.2537e-01, -2.1900e-02,\n",
       "                       1.8509e-01,  1.2469e-01,  2.4576e-01,  3.3470e-01,  2.4639e-01,\n",
       "                       5.6228e-01, -9.6572e-02, -1.6257e-02,  5.1061e-02, -1.6607e-02,\n",
       "                       4.2592e-02,  4.3706e-03,  1.3903e-01, -8.2234e-02, -9.6035e-03,\n",
       "                      -2.2075e-01,  1.7756e-01,  6.4737e-02,  2.7816e-01,  1.2477e-01,\n",
       "                       2.4231e-01, -1.7245e-03,  1.6046e-02,  1.0495e-01,  2.5730e-01,\n",
       "                       2.0422e-01,  1.4568e-01,  2.2669e-01, -2.1940e-01,  1.0030e-01,\n",
       "                      -3.6015e-02, -9.1865e-02,  2.2590e-01,  2.7161e-01,  1.2996e-01,\n",
       "                       3.2725e-01, -3.1236e-02,  3.8381e-01,  3.0032e-01,  1.4800e-02,\n",
       "                       7.2297e-02, -3.0856e-02, -1.5852e-01,  3.4116e-01, -1.0473e-02,\n",
       "                       2.2684e-01, -3.9927e-01,  2.8785e-01, -1.2194e-02,  2.8359e-01,\n",
       "                       2.2099e-01, -4.3196e-02, -1.9094e-02,  1.6339e-01, -1.4918e-01,\n",
       "                       1.2670e-01,  2.3374e-01,  1.9270e-02,  1.7131e-01, -3.1403e-02,\n",
       "                       1.4491e-01,  1.4749e-03,  3.0626e-01,  2.4962e-01,  7.8852e-02,\n",
       "                       2.7223e-01, -1.8398e-01,  3.5220e-01,  1.1802e-01,  1.7698e-01,\n",
       "                      -3.1299e-02,  7.8174e-03, -9.6021e-02,  2.3510e-01,  9.9926e-02,\n",
       "                       1.2466e-01,  1.5264e-03, -5.4040e-02, -9.9576e-02, -3.1849e-02,\n",
       "                       1.3216e-01, -5.8713e-02, -2.7364e-01,  2.6307e-01, -1.4152e-01,\n",
       "                       6.7560e-02, -5.0420e-02, -2.2781e-02,  4.3033e-01, -2.6493e-01,\n",
       "                       2.0770e-01, -1.5650e-01,  3.2019e-01,  1.3943e-01, -2.6872e-01,\n",
       "                      -2.1846e-01,  2.7110e-01,  2.4560e-01,  1.0603e-01, -7.2066e-02,\n",
       "                       9.0234e-02, -3.1585e-01,  3.0478e-01,  1.1026e-02,  1.3511e-01,\n",
       "                      -3.5441e-01, -2.0722e-01,  1.2783e-01, -7.3821e-03,  2.1728e-01,\n",
       "                       3.9225e-01,  4.0210e-01, -2.8474e-01,  4.0840e-02, -2.3454e-01,\n",
       "                      -1.2886e-02, -2.8371e-01,  4.2356e-01, -1.7421e-01,  8.7463e-02,\n",
       "                       3.3582e-01, -2.9305e-02, -3.4150e-02,  4.5896e-01, -1.4641e-01,\n",
       "                       4.6808e-01, -1.0420e-02,  8.1793e-02,  3.6333e-01, -1.8982e-01,\n",
       "                       5.6858e-02,  9.2328e-02, -1.8652e-03,  2.8112e-01, -1.2500e-01,\n",
       "                      -3.7442e-02,  4.1517e-01,  2.0952e-01,  1.1328e-01, -7.3026e-02,\n",
       "                      -1.4976e-01, -2.6095e-02, -3.7803e-02,  2.2674e-01,  1.4352e-01,\n",
       "                       2.1042e-01,  1.4203e-01,  3.4989e-01,  3.8898e-01,  1.0470e-01,\n",
       "                      -2.7247e-01], device='cuda:0')),\n",
       "             ('fc.2.0.weight',\n",
       "              tensor([[ 0.0125, -0.0247,  0.0645,  ...,  0.4746,  0.0041,  0.0840],\n",
       "                      [ 0.0989,  0.0616,  0.0051,  ...,  0.0179,  0.1967,  0.0356],\n",
       "                      [-0.1198,  0.0258,  0.2372,  ..., -0.0551,  0.0146,  0.1154],\n",
       "                      ...,\n",
       "                      [ 0.0820, -0.0594,  0.1184,  ..., -0.3922,  0.0638, -0.0181],\n",
       "                      [ 0.1193, -0.2515, -0.0213,  ...,  0.1153, -0.0830, -0.0326],\n",
       "                      [-0.0546, -0.1187,  0.0923,  ..., -0.3868,  0.1037, -0.0228]],\n",
       "                     device='cuda:0')),\n",
       "             ('fc.2.0.bias',\n",
       "              tensor([ 0.2795,  0.1382,  0.1137,  0.4640,  0.4771,  0.1187,  0.0650,  0.0577,\n",
       "                       0.1061, -0.0421,  0.3198,  0.1287, -0.0221,  0.1214,  0.1494,  0.2151,\n",
       "                       0.0393,  0.3427,  0.1187,  0.3347,  0.4041,  0.1506,  0.0325,  0.2023,\n",
       "                       0.3175,  0.1402,  0.1602,  0.1445,  0.0713,  0.0183,  0.1332,  0.2599,\n",
       "                       0.1581,  0.3168,  0.0126,  0.1420,  0.0766, -0.0134,  0.3245,  0.3178,\n",
       "                       0.3678,  0.2633,  0.1187,  0.2723,  0.1102,  0.3349,  0.1934,  0.0739,\n",
       "                       0.2979,  0.3833,  0.3298,  0.1565,  0.2679,  0.0722,  0.1510,  0.0264,\n",
       "                       0.2286,  0.1829,  0.0664,  0.1926,  0.1532,  0.2002,  0.2708,  0.1408],\n",
       "                     device='cuda:0')),\n",
       "             ('fc.3.0.weight',\n",
       "              tensor([[ 1.2583e-01,  1.1286e-01, -3.2586e-02, -3.4335e-01, -4.9527e-01,\n",
       "                       -2.6348e-01,  4.8521e-02,  1.2734e-01, -8.0128e-01,  1.8269e-01,\n",
       "                       -1.9630e-01,  1.3343e-01, -5.4681e-01, -1.9585e-01, -3.4920e-02,\n",
       "                       -3.4952e-01,  1.0387e-01, -2.2974e-01,  1.4643e-01, -1.3241e-01,\n",
       "                       -3.4189e-01,  9.6363e-02,  1.3210e-01,  7.9014e-02, -6.2186e-01,\n",
       "                        2.0111e-01, -2.6891e-01, -8.2397e-02, -2.6350e-01,  1.0382e-01,\n",
       "                        1.7627e-01, -1.7773e-01, -4.9865e-01, -3.5452e-01,  1.5824e-01,\n",
       "                        1.2773e-01, -3.3359e-01,  1.2851e-01, -2.4827e-01, -3.4713e-01,\n",
       "                       -5.5175e-01, -1.8768e-01,  1.4675e-01, -7.8958e-02,  1.4680e-01,\n",
       "                       -4.0025e-01, -9.2963e-01,  1.0393e-01,  1.0159e-01, -4.0814e-01,\n",
       "                       -9.8573e-02, -1.5716e-01, -5.3653e-01,  5.6014e-02, -3.5643e-01,\n",
       "                        2.7001e-02, -4.7307e-01, -3.8421e-01,  1.3347e-01,  1.6322e-01,\n",
       "                        1.4110e-01,  7.9513e-02, -1.8468e-01, -4.0440e-01],\n",
       "                      [ 1.5049e-02,  4.6086e-02, -1.0972e-01, -2.9952e-01, -2.2540e-01,\n",
       "                        1.5546e-01,  3.3748e-02, -4.9816e-01, -4.3351e-01, -1.1568e-01,\n",
       "                       -3.0543e-01, -2.6014e-01,  1.1070e-01, -2.6484e-01, -4.9036e-02,\n",
       "                        7.1499e-02,  1.1988e-01,  3.5790e-02,  1.6625e-01, -3.9123e-02,\n",
       "                        2.4355e-01, -3.1361e-01,  9.5989e-02, -4.9981e-02, -4.7670e-01,\n",
       "                        1.4303e-01,  1.5654e-01,  2.4279e-01,  8.8661e-02, -2.0390e-01,\n",
       "                       -5.7995e-02,  1.9422e-01, -2.9031e-01, -4.0729e-01, -2.2154e-01,\n",
       "                        2.5653e-01, -3.4930e-01, -6.2706e-01, -2.7362e-01, -8.5252e-03,\n",
       "                       -1.8283e-01, -2.8005e-01, -1.1867e-02, -2.3842e-01, -7.7075e-02,\n",
       "                        1.4379e-01, -3.6078e-01, -1.7301e-01,  3.3505e-02, -3.1169e-01,\n",
       "                       -3.1171e-01, -5.9232e-02,  6.5629e-02,  7.3869e-02, -3.9330e-01,\n",
       "                        1.0842e-01, -2.9424e-01, -2.2482e-01,  2.3835e-01,  2.0980e-01,\n",
       "                       -3.8149e-01, -3.1990e-01,  2.7629e-01,  1.3988e-01],\n",
       "                      [-3.0213e-01, -3.8353e-01,  1.7744e-02, -1.4011e-01, -2.7528e-01,\n",
       "                        2.9055e-02,  1.2032e-01,  7.3797e-02,  7.8982e-02,  1.5745e-01,\n",
       "                       -1.9823e-01, -2.3005e-01,  1.0744e-01, -1.3467e-01,  1.3347e-01,\n",
       "                       -2.5590e-02,  6.9301e-02,  1.5837e-01,  1.0909e-01, -5.1852e-01,\n",
       "                       -1.3247e-01, -2.0537e-01, -5.9851e-03, -1.9390e-01,  3.4188e-02,\n",
       "                       -1.5227e-01,  1.0675e-01, -1.7555e-01,  7.8247e-02, -2.1273e-01,\n",
       "                       -2.8330e-01, -3.1190e-01,  1.4603e-01,  3.2216e-02, -2.0472e-01,\n",
       "                       -7.8939e-03,  5.0242e-02, -2.9994e-01, -1.3987e-01,  5.7694e-02,\n",
       "                       -2.5833e-01,  1.3952e-01,  7.9498e-02,  7.1888e-02, -3.5317e-01,\n",
       "                       -7.6209e-02,  1.2472e-01,  1.5223e-01, -5.0815e-01, -3.5487e-01,\n",
       "                       -2.6172e-01,  9.5527e-02,  7.6132e-02,  8.9372e-02,  1.4049e-01,\n",
       "                        1.3320e-01,  1.1569e-01,  1.2065e-01,  1.0496e-01, -2.0080e-01,\n",
       "                        9.9941e-02,  1.3765e-02, -3.3707e-01,  1.0235e-01],\n",
       "                      [ 3.6750e-02, -1.7863e-01, -1.4523e-01, -2.5001e-01,  1.0878e-01,\n",
       "                       -1.4452e-01,  4.7288e-02, -3.3724e-01, -3.1446e-01, -1.9707e-01,\n",
       "                       -2.6171e-01, -5.2949e-01, -1.2855e-01, -3.5838e-01, -3.0826e-01,\n",
       "                       -4.7181e-01, -3.3859e-01,  1.8657e-01,  4.0711e-02,  3.0942e-02,\n",
       "                        9.7985e-02,  6.6533e-02, -5.4845e-01,  1.9043e-01,  1.0936e-01,\n",
       "                       -3.2570e-01,  6.4401e-02, -2.5620e-02, -1.5659e-01, -1.3788e-01,\n",
       "                        1.5133e-01,  7.1372e-02,  1.1277e-01,  1.8267e-01, -2.2539e-01,\n",
       "                        9.9431e-02,  4.2627e-02, -2.6612e-01, -5.5899e-01, -1.5659e-02,\n",
       "                        1.0054e-01,  1.6462e-01,  1.1003e-01,  8.9942e-02, -5.8979e-02,\n",
       "                        4.9650e-02,  5.5935e-02, -3.1510e-01, -5.0550e-01,  7.9142e-02,\n",
       "                        9.6785e-02,  1.0852e-03,  3.5113e-02, -2.5996e-01,  1.3682e-01,\n",
       "                        1.0560e-01,  6.1586e-02,  1.5706e-01,  1.9763e-02,  1.4233e-01,\n",
       "                       -4.8244e-01,  1.1146e-01, -3.0097e-02,  9.0486e-02],\n",
       "                      [ 8.6066e-03, -5.5016e-01, -2.1340e-01,  1.7716e-01,  6.9746e-02,\n",
       "                       -3.9605e-02, -1.1994e-01,  1.0104e-01,  7.5050e-02, -8.8405e-02,\n",
       "                        5.5326e-02, -1.0262e-01,  1.1348e-01,  1.8883e-01,  1.1724e-01,\n",
       "                       -2.3814e-01, -2.0493e-01, -2.0741e-01, -6.2060e-02, -4.9990e-01,\n",
       "                        1.4733e-01, -5.2248e-01, -1.2620e-02, -2.3807e-01,  1.0176e-01,\n",
       "                       -1.6832e-01,  9.1692e-02, -4.6246e-01,  3.9608e-02, -2.2525e-01,\n",
       "                       -3.7771e-01, -3.5701e-01, -1.5716e-01, -1.8519e-01, -5.0290e-02,\n",
       "                       -1.6671e-02,  5.5971e-02, -4.2270e-01,  1.7679e-01,  7.2127e-02,\n",
       "                       -3.5906e-02, -7.5687e-02, -2.0477e-01, -3.1644e-01, -4.0732e-01,\n",
       "                        3.5938e-02,  1.2508e-01,  1.5140e-01, -2.7304e-01,  7.0631e-02,\n",
       "                        1.3438e-01,  1.0830e-01,  6.6709e-02,  8.2852e-02, -1.9939e-01,\n",
       "                        1.0487e-01,  1.1688e-01, -1.2164e-01, -1.6297e-01, -2.6693e-01,\n",
       "                        9.4905e-02,  1.6239e-01,  1.2262e-01,  4.0486e-02],\n",
       "                      [ 1.2767e-01,  1.0073e-01, -3.1944e-01,  2.1312e-01,  1.6484e-01,\n",
       "                       -4.2144e-01,  2.6224e-01,  2.2202e-01, -7.5806e-01, -3.0608e-01,\n",
       "                       -6.6350e-01, -3.4628e-01, -5.8278e-01, -2.8870e-01,  2.2471e-01,\n",
       "                       -4.0364e-01, -2.0884e-01,  1.8808e-01,  1.3157e-01,  1.8671e-01,\n",
       "                       -3.5854e-01, -2.4845e-01,  1.6750e-01, -2.7214e-01, -7.2845e-01,\n",
       "                        2.2566e-01, -4.5628e-01,  1.0391e-01, -5.2202e-01, -3.2092e-01,\n",
       "                        2.3677e-01, -2.2199e-01, -3.5824e-01, -4.6660e-01, -7.4301e-02,\n",
       "                        6.8139e-02,  2.2911e-02,  1.2500e-01,  3.8768e-01,  1.1302e-01,\n",
       "                       -4.6485e-01, -4.1867e-02, -3.2642e-01,  3.8784e-01, -2.3725e-01,\n",
       "                        2.2331e-01, -7.8967e-01, -1.7004e-01,  1.1022e-01,  8.5883e-03,\n",
       "                        1.6204e-01, -1.9612e-01, -6.3389e-01, -4.4431e-01, -4.3096e-01,\n",
       "                       -3.1728e-01, -5.4357e-01, -1.5371e-01, -1.3149e-01, -5.1930e-02,\n",
       "                       -3.9407e-02, -2.0889e-02, -2.6104e-02, -4.7742e-01],\n",
       "                      [-3.5152e-02, -3.5626e-01, -4.4351e-02,  7.5775e-02,  9.8962e-02,\n",
       "                        7.5017e-02, -1.9952e-01,  6.1170e-02,  5.2040e-02,  4.9066e-03,\n",
       "                        1.2608e-01, -1.7845e-01,  8.1535e-02, -1.3555e-01,  1.2939e-01,\n",
       "                        2.0678e-01,  5.9577e-02,  1.6057e-02,  1.1864e-01, -6.7016e-02,\n",
       "                        5.8932e-03, -1.4807e-02, -2.6270e-01, -4.3272e-02,  1.1884e-01,\n",
       "                        6.3977e-02,  3.3372e-02, -1.0679e-01,  6.1096e-02, -1.3048e-01,\n",
       "                       -1.2785e-02, -2.9428e-02, -7.2984e-03,  1.7664e-01, -2.7280e-02,\n",
       "                       -3.1793e-01, -2.4090e-01, -4.1850e-01,  1.1222e-01,  4.9829e-02,\n",
       "                        9.1500e-02, -6.6644e-02, -1.6599e-01,  1.4359e-01,  1.0711e-01,\n",
       "                        7.1654e-02,  1.0139e-01, -1.7614e-01, -1.6051e-01,  5.0618e-02,\n",
       "                       -2.4949e-01, -2.6553e-01,  7.5973e-02,  8.8479e-02,  1.5109e-01,\n",
       "                       -1.1432e-01,  1.1712e-01,  1.1629e-01, -1.8360e-01,  1.4519e-01,\n",
       "                        7.8253e-02, -1.9696e-01,  9.2543e-03, -2.2026e-01],\n",
       "                      [ 1.2850e-01,  9.9890e-02,  2.6771e-01,  2.0588e-01,  1.3190e-01,\n",
       "                       -3.8124e-01, -2.3321e-01, -4.5312e-01, -9.6897e-01,  3.0571e-02,\n",
       "                       -3.0799e-01,  1.5427e-01, -3.5143e-01, -3.3054e-01, -5.3474e-01,\n",
       "                       -1.0550e-01, -6.3079e-02,  1.7965e-01, -3.8538e-01,  1.6622e-01,\n",
       "                        1.2204e-01,  8.8969e-02,  1.4761e-01, -2.2121e-01, -6.4230e-01,\n",
       "                       -2.2404e-01,  1.0587e-03,  9.4816e-02, -5.6671e-01,  9.1357e-02,\n",
       "                       -1.9583e-01,  1.5796e-01, -2.7867e-01, -3.8305e-01, -1.6783e-01,\n",
       "                       -7.6920e-02, -5.9848e-01,  9.4094e-02, -4.0161e-01,  1.1861e-01,\n",
       "                       -1.1325e+00,  1.1741e-01,  1.2238e-01, -2.3074e-01,  1.1194e-01,\n",
       "                       -2.6124e-01, -9.5018e-01,  1.2408e-01,  1.1780e-01, -6.5928e-01,\n",
       "                        1.7320e-01,  2.5015e-01, -4.0340e-01,  5.0191e-02, -2.7992e-01,\n",
       "                       -2.7900e-01, -5.0818e-01, -4.3602e-01,  1.0292e-01, -1.3938e-01,\n",
       "                        1.6001e-01, -3.1381e-01, -4.7715e-01, -5.2046e-01],\n",
       "                      [-1.3208e-01, -9.0201e-02, -1.8864e-01, -1.7240e-02,  8.8479e-02,\n",
       "                        1.0008e-01, -3.6660e-01, -1.6130e-01,  9.5287e-02,  5.5606e-02,\n",
       "                        1.2485e-01, -2.7715e-01, -6.8046e-02,  1.3160e-01,  1.3235e-01,\n",
       "                        2.0445e-03,  9.3734e-02, -3.3133e-01, -1.3846e-01, -6.6411e-02,\n",
       "                       -3.4497e-02,  5.8247e-02, -1.5928e-01, -3.4968e-02,  1.2543e-01,\n",
       "                       -1.1350e-02,  8.6547e-02, -1.9064e-01,  7.6248e-02,  1.0782e-01,\n",
       "                        7.1746e-02,  1.9133e-01,  1.0660e-01,  1.6592e-01, -2.9163e-01,\n",
       "                       -1.3328e-01,  7.6844e-02, -2.9781e-02,  2.6914e-03, -3.3927e-01,\n",
       "                        1.0168e-01, -3.3197e-01,  4.0101e-02, -3.1567e-01,  9.5736e-02,\n",
       "                        7.3712e-02, -2.5331e-01, -3.0538e-01, -8.2571e-02,  7.9727e-02,\n",
       "                        1.1879e-02,  3.7695e-02,  7.7576e-02, -2.3116e-01, -2.1686e-01,\n",
       "                        9.6636e-02, -1.9986e-02, -2.3744e-01, -6.2640e-02, -1.1983e-01,\n",
       "                       -2.5415e-01, -1.8070e-01,  1.3060e-01, -2.0811e-01],\n",
       "                      [-5.7358e-01, -8.0482e-03,  2.5653e-01, -5.3143e-01, -2.0290e-01,\n",
       "                       -3.8658e-01, -8.0985e-02, -1.4652e-01,  1.4421e-01,  3.1552e-01,\n",
       "                       -3.0927e-01, -5.5444e-01,  1.3572e-01,  2.6080e-01, -1.7817e-01,\n",
       "                       -3.4107e-01, -2.4450e-01, -1.0872e-01, -2.6762e-02,  1.2776e-02,\n",
       "                       -2.6816e-01,  1.5509e-01, -2.2500e-01,  1.9415e-01, -3.9313e-01,\n",
       "                        2.2674e-01, -3.4015e-01,  2.1750e-01, -1.5241e-01,  2.8664e-01,\n",
       "                        1.4434e-01, -3.0570e-02,  2.4423e-02, -1.0854e-01,  4.8568e-01,\n",
       "                        1.1723e-01,  1.1904e-01, -4.2609e-01,  1.7451e-02, -5.1995e-01,\n",
       "                        1.0619e-01, -1.2846e-01,  1.0785e-01, -2.2384e-01, -3.5827e-01,\n",
       "                       -4.2557e-01, -9.0101e-02, -1.4817e-01, -2.0235e-01,  1.8573e-02,\n",
       "                       -1.0448e-02, -1.4661e-01, -3.9861e-01, -1.4036e-01, -1.3816e-01,\n",
       "                       -1.5152e-01,  8.8318e-02,  9.3042e-02, -2.2328e-01, -1.4711e-01,\n",
       "                       -3.3233e-01,  1.1948e-01, -1.0508e-01,  1.0335e-01]], device='cuda:0')),\n",
       "             ('fc.3.0.bias',\n",
       "              tensor([-0.2752, -0.1010, -0.1133,  0.2216,  0.0351,  0.1394,  0.0486,  0.1138,\n",
       "                      -0.0397, -0.2415], device='cuda:0'))])"
      ]
     },
     "execution_count": 16,
     "metadata": {},
     "output_type": "execute_result"
    }
   ],
   "source": [
    "model.state_dict()"
   ]
  },
  {
   "cell_type": "markdown",
   "metadata": {},
   "source": [
    "# Predict"
   ]
  },
  {
   "cell_type": "code",
   "execution_count": 17,
   "metadata": {},
   "outputs": [],
   "source": [
    "feature, target = next(iter(testloader))\n",
    "feature, target = feature.to(device), target.to(device)"
   ]
  },
  {
   "cell_type": "code",
   "execution_count": 19,
   "metadata": {},
   "outputs": [
    {
     "data": {
      "text/plain": [
       "['Dress',\n",
       " 'Shirt',\n",
       " 'Coat',\n",
       " 'Coat',\n",
       " 'Dress',\n",
       " 'Coat',\n",
       " 'Sneaker',\n",
       " 'Sneaker',\n",
       " 'Coat',\n",
       " 'Coat',\n",
       " 'Bag',\n",
       " 'Ankle boot',\n",
       " 'Coat',\n",
       " 'Trouser',\n",
       " 'Pullover',\n",
       " 'Sandal',\n",
       " 'T-shirt or Top',\n",
       " 'Bag',\n",
       " 'Shirt',\n",
       " 'Dress',\n",
       " 'Pullover',\n",
       " 'Sneaker',\n",
       " 'Pullover',\n",
       " 'T-shirt or Top',\n",
       " 'Dress',\n",
       " 'Coat',\n",
       " 'Sandal',\n",
       " 'Coat',\n",
       " 'T-shirt or Top',\n",
       " 'Sandal',\n",
       " 'Pullover',\n",
       " 'Ankle boot',\n",
       " 'Trouser',\n",
       " 'Trouser',\n",
       " 'Dress',\n",
       " 'Ankle boot',\n",
       " 'Ankle boot',\n",
       " 'Ankle boot',\n",
       " 'T-shirt or Top',\n",
       " 'T-shirt or Top',\n",
       " 'Dress',\n",
       " 'Dress',\n",
       " 'Sandal',\n",
       " 'Pullover',\n",
       " 'Coat',\n",
       " 'Trouser',\n",
       " 'Trouser',\n",
       " 'Trouser',\n",
       " 'Shirt',\n",
       " 'Bag',\n",
       " 'Shirt',\n",
       " 'Trouser',\n",
       " 'Coat',\n",
       " 'T-shirt or Top',\n",
       " 'Trouser',\n",
       " 'T-shirt or Top',\n",
       " 'Sandal',\n",
       " 'Trouser',\n",
       " 'Bag',\n",
       " 'Sandal',\n",
       " 'Ankle boot',\n",
       " 'Dress',\n",
       " 'Sneaker',\n",
       " 'Sneaker',\n",
       " 'T-shirt or Top',\n",
       " 'T-shirt or Top',\n",
       " 'Dress',\n",
       " 'Dress',\n",
       " 'Pullover',\n",
       " 'Dress',\n",
       " 'Shirt',\n",
       " 'Bag',\n",
       " 'Bag',\n",
       " 'Trouser',\n",
       " 'T-shirt or Top',\n",
       " 'Dress',\n",
       " 'T-shirt or Top',\n",
       " 'Bag',\n",
       " 'Coat',\n",
       " 'Ankle boot',\n",
       " 'Shirt',\n",
       " 'Dress',\n",
       " 'Dress',\n",
       " 'Trouser',\n",
       " 'Coat',\n",
       " 'Ankle boot',\n",
       " 'Trouser',\n",
       " 'Pullover',\n",
       " 'Sneaker',\n",
       " 'Trouser',\n",
       " 'Sneaker',\n",
       " 'Dress',\n",
       " 'Trouser',\n",
       " 'Coat',\n",
       " 'T-shirt or Top',\n",
       " 'Trouser',\n",
       " 'Bag',\n",
       " 'Bag',\n",
       " 'Dress',\n",
       " 'Shirt',\n",
       " 'Sneaker',\n",
       " 'Trouser',\n",
       " 'Dress',\n",
       " 'Bag',\n",
       " 'T-shirt or Top',\n",
       " 'Dress',\n",
       " 'Bag',\n",
       " 'Sandal',\n",
       " 'Sandal',\n",
       " 'Ankle boot',\n",
       " 'Sneaker',\n",
       " 'Pullover',\n",
       " 'Dress',\n",
       " 'T-shirt or Top',\n",
       " 'Ankle boot',\n",
       " 'Sneaker',\n",
       " 'Sandal',\n",
       " 'Sandal',\n",
       " 'Ankle boot',\n",
       " 'Shirt',\n",
       " 'Sandal',\n",
       " 'Bag',\n",
       " 'Sneaker',\n",
       " 'Ankle boot',\n",
       " 'Trouser',\n",
       " 'Ankle boot',\n",
       " 'Sneaker',\n",
       " 'Sneaker']"
      ]
     },
     "execution_count": 19,
     "metadata": {},
     "output_type": "execute_result"
    }
   ],
   "source": [
    "with torch.no_grad():\n",
    "    model.eval()\n",
    "    output = model(feature)\n",
    "    preds = output.argmax(1)\n",
    "[label2cat[pred] for pred in preds]"
   ]
  },
  {
   "cell_type": "markdown",
   "metadata": {},
   "source": [
    "# Visualisasi"
   ]
  },
  {
   "cell_type": "code",
   "execution_count": 20,
   "metadata": {},
   "outputs": [],
   "source": [
    "import matplotlib.pyplot as plt"
   ]
  },
  {
   "cell_type": "code",
   "execution_count": 24,
   "metadata": {},
   "outputs": [
    {
     "data": {
      "image/png": "[encoded data removed]",
      "text/plain": [
       "<Figure size 1728x1728 with 36 Axes>"
      ]
     },
     "metadata": {
      "needs_background": "light"
     },
     "output_type": "display_data"
    }
   ],
   "source": [
    "fig, axes = plt.subplots(6,6, figsize=(24, 24))\n",
    "for img, label, pred, ax in zip(feature, target, preds, axes.flatten()):\n",
    "    ax.imshow(img.view(28,28).cpu(), cmap='gray')\n",
    "    font = {\"color\": 'r'} if label != pred else {\"color\": \"g\"}\n",
    "    label, pred = label2cat[label.item()], label2cat[pred.item()]\n",
    "    ax.set_title(f\"label:{label} | Pred: {pred}\", fontdict=font);\n",
    "    ax.axis('off');"
   ]
  },
  {
   "cell_type": "code",
   "execution_count": null,
   "metadata": {},
   "outputs": [],
   "source": []
  }
 ],
 "metadata": {
  "kernelspec": {
   "display_name": "Python [conda env:jcopdl]",
   "language": "python",
   "name": "conda-env-jcopdl-py"
  },
  "language_info": {
   "codemirror_mode": {
    "name": "ipython",
    "version": 3
   },
   "file_extension": ".py",
   "mimetype": "text/x-python",
   "name": "python",
   "nbconvert_exporter": "python",
   "pygments_lexer": "ipython3",
   "version": "3.7.6"
  }
 },
 "nbformat": 4,
 "nbformat_minor": 4
}
