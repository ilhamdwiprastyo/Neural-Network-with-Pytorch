{
 "cells": [
  {
   "cell_type": "code",
   "execution_count": 24,
   "metadata": {},
   "outputs": [],
   "source": [
    "class Manusia:\n",
    "    def __init__(self, warna_rambut, tinggi, berat):\n",
    "        self.warna_rambut = warna_rambut\n",
    "        self.tinggi = tinggi\n",
    "        self.berat = berat\n",
    "        \n",
    "    def cat_rambutnya(self, warna):\n",
    "        self.warna_rambut = warna\n",
    "        print(f\"Rambutnya jadi warna {warna}\")\n",
    "        \n",
    "    def BMI(self):\n",
    "        return self.berat / self.tinggi ** 2"
   ]
  },
  {
   "cell_type": "code",
   "execution_count": 26,
   "metadata": {},
   "outputs": [],
   "source": [
    "wira = Manusia(\"hitam\", 178, 60)"
   ]
  },
  {
   "cell_type": "code",
   "execution_count": 23,
   "metadata": {},
   "outputs": [
    {
     "data": {
      "text/plain": [
       "'putih'"
      ]
     },
     "execution_count": 23,
     "metadata": {},
     "output_type": "execute_result"
    }
   ],
   "source": [
    "wira.warna_rambut"
   ]
  },
  {
   "cell_type": "code",
   "execution_count": 12,
   "metadata": {},
   "outputs": [
    {
     "data": {
      "text/plain": [
       "178"
      ]
     },
     "execution_count": 12,
     "metadata": {},
     "output_type": "execute_result"
    }
   ],
   "source": [
    "wira.tinggi"
   ]
  },
  {
   "cell_type": "code",
   "execution_count": 13,
   "metadata": {},
   "outputs": [
    {
     "data": {
      "text/plain": [
       "60"
      ]
     },
     "execution_count": 13,
     "metadata": {},
     "output_type": "execute_result"
    }
   ],
   "source": [
    "wira.berat"
   ]
  },
  {
   "cell_type": "code",
   "execution_count": 22,
   "metadata": {},
   "outputs": [
    {
     "name": "stdout",
     "output_type": "stream",
     "text": [
      "Rambutnya jadi warna putih\n"
     ]
    }
   ],
   "source": [
    "wira.cat_rambutnya(\"putih\")"
   ]
  },
  {
   "cell_type": "code",
   "execution_count": 27,
   "metadata": {},
   "outputs": [
    {
     "data": {
      "text/plain": [
       "0.0018937002903673778"
      ]
     },
     "execution_count": 27,
     "metadata": {},
     "output_type": "execute_result"
    }
   ],
   "source": [
    "wira.BMI()"
   ]
  },
  {
   "cell_type": "markdown",
   "metadata": {},
   "source": [
    "# Inheritance"
   ]
  },
  {
   "cell_type": "code",
   "execution_count": 31,
   "metadata": {},
   "outputs": [],
   "source": [
    "class Mahasiswa(Manusia):\n",
    "    def __init__(self, warna_rambut, tinggi, berat, univ):\n",
    "        super().__init__(warna_rambut, tinggi, berat)\n",
    "        self.universitas = univ\n",
    "    \n",
    "    def pindah_univ(self, univ_baru):\n",
    "        self.universitas = univ_baru"
   ]
  },
  {
   "cell_type": "code",
   "execution_count": 32,
   "metadata": {},
   "outputs": [],
   "source": [
    "terry = Mahasiswa(\"hitam\", 150, 45, \"ITB\")"
   ]
  },
  {
   "cell_type": "code",
   "execution_count": 30,
   "metadata": {},
   "outputs": [
    {
     "data": {
      "text/plain": [
       "'ITB'"
      ]
     },
     "execution_count": 30,
     "metadata": {},
     "output_type": "execute_result"
    }
   ],
   "source": [
    "terry.universitas"
   ]
  },
  {
   "cell_type": "code",
   "execution_count": 34,
   "metadata": {},
   "outputs": [],
   "source": [
    "terry.pindah_univ(\"MIT\")"
   ]
  },
  {
   "cell_type": "code",
   "execution_count": 35,
   "metadata": {},
   "outputs": [
    {
     "data": {
      "text/plain": [
       "'MIT'"
      ]
     },
     "execution_count": 35,
     "metadata": {},
     "output_type": "execute_result"
    }
   ],
   "source": [
    "terry.universitas"
   ]
  },
  {
   "cell_type": "markdown",
   "metadata": {},
   "source": [
    "# Pytorch NN Modul"
   ]
  },
  {
   "cell_type": "code",
   "execution_count": 37,
   "metadata": {},
   "outputs": [],
   "source": [
    "import torch\n",
    "from torch import nn"
   ]
  },
  {
   "cell_type": "code",
   "execution_count": 41,
   "metadata": {},
   "outputs": [],
   "source": [
    "nn.Module??"
   ]
  },
  {
   "cell_type": "code",
   "execution_count": 47,
   "metadata": {},
   "outputs": [],
   "source": [
    "class CustomNN(nn.Module):\n",
    "    def __init__(self, input_size, output_size):\n",
    "        super().__init__()\n",
    "        self.fc = nn.Sequential(\n",
    "            nn.Linear(input_size, 16),\n",
    "            nn.ReLU(),\n",
    "            nn.Linear(16, 8),\n",
    "            nn.ReLU(),\n",
    "            nn.Linear(8, output_size),\n",
    "            nn.Sigmoid()\n",
    "        )\n",
    "        \n",
    "    def forward(self, x):\n",
    "        return self.fc(x)"
   ]
  },
  {
   "cell_type": "code",
   "execution_count": 48,
   "metadata": {},
   "outputs": [],
   "source": [
    "class FaceBiometric(nn.Module):\n",
    "    def __init__(self, input_size, output_size):\n",
    "        super().__init__()\n",
    "        self.fc = nn.Sequential(\n",
    "            nn.Linear(input_size, 16),\n",
    "            nn.ReLU()\n",
    "        )\n",
    "        \n",
    "        self.reg = nn.Linear(16, 4)\n",
    "        self.clf = nn.Sequential(\n",
    "            nn.Linear(16, 4),\n",
    "            nn.sigmoid()\n",
    "        )\n",
    "        \n",
    "    def forward(self, x):\n",
    "        x = self.fc(x)\n",
    "        pred_reg = self.reg(x)\n",
    "        pred_clf = self.clf(x)\n",
    "        \n",
    "        return pred_reg, pred_clf"
   ]
  },
  {
   "cell_type": "code",
   "execution_count": 49,
   "metadata": {},
   "outputs": [],
   "source": [
    "model = CustomNN(7, 1)"
   ]
  },
  {
   "cell_type": "code",
   "execution_count": 50,
   "metadata": {},
   "outputs": [],
   "source": [
    "contoh_data = torch.rand(100, 7)"
   ]
  },
  {
   "cell_type": "code",
   "execution_count": 52,
   "metadata": {},
   "outputs": [
    {
     "data": {
      "text/plain": [
       "tensor([[0.4326],\n",
       "        [0.4329],\n",
       "        [0.4317],\n",
       "        [0.4322],\n",
       "        [0.4299],\n",
       "        [0.4326],\n",
       "        [0.4278],\n",
       "        [0.4308],\n",
       "        [0.4305],\n",
       "        [0.4323],\n",
       "        [0.4287],\n",
       "        [0.4333],\n",
       "        [0.4330],\n",
       "        [0.4320],\n",
       "        [0.4324],\n",
       "        [0.4307],\n",
       "        [0.4327],\n",
       "        [0.4314],\n",
       "        [0.4312],\n",
       "        [0.4329],\n",
       "        [0.4321],\n",
       "        [0.4314],\n",
       "        [0.4321],\n",
       "        [0.4299],\n",
       "        [0.4313],\n",
       "        [0.4295],\n",
       "        [0.4299],\n",
       "        [0.4328],\n",
       "        [0.4268],\n",
       "        [0.4331],\n",
       "        [0.4278],\n",
       "        [0.4332],\n",
       "        [0.4268],\n",
       "        [0.4310],\n",
       "        [0.4333],\n",
       "        [0.4314],\n",
       "        [0.4314],\n",
       "        [0.4334],\n",
       "        [0.4306],\n",
       "        [0.4331],\n",
       "        [0.4313],\n",
       "        [0.4353],\n",
       "        [0.4307],\n",
       "        [0.4350],\n",
       "        [0.4327],\n",
       "        [0.4323],\n",
       "        [0.4312],\n",
       "        [0.4298],\n",
       "        [0.4286],\n",
       "        [0.4326],\n",
       "        [0.4330],\n",
       "        [0.4320],\n",
       "        [0.4333],\n",
       "        [0.4317],\n",
       "        [0.4325],\n",
       "        [0.4330],\n",
       "        [0.4281],\n",
       "        [0.4307],\n",
       "        [0.4322],\n",
       "        [0.4300],\n",
       "        [0.4306],\n",
       "        [0.4334],\n",
       "        [0.4335],\n",
       "        [0.4333],\n",
       "        [0.4326],\n",
       "        [0.4329],\n",
       "        [0.4318],\n",
       "        [0.4300],\n",
       "        [0.4294],\n",
       "        [0.4301],\n",
       "        [0.4331],\n",
       "        [0.4326],\n",
       "        [0.4279],\n",
       "        [0.4331],\n",
       "        [0.4292],\n",
       "        [0.4310],\n",
       "        [0.4298],\n",
       "        [0.4325],\n",
       "        [0.4321],\n",
       "        [0.4333],\n",
       "        [0.4270],\n",
       "        [0.4320],\n",
       "        [0.4324],\n",
       "        [0.4327],\n",
       "        [0.4330],\n",
       "        [0.4298],\n",
       "        [0.4330],\n",
       "        [0.4331],\n",
       "        [0.4325],\n",
       "        [0.4336],\n",
       "        [0.4330],\n",
       "        [0.4335],\n",
       "        [0.4332],\n",
       "        [0.4322],\n",
       "        [0.4323],\n",
       "        [0.4308],\n",
       "        [0.4320],\n",
       "        [0.4293],\n",
       "        [0.4307],\n",
       "        [0.4328]], grad_fn=<SigmoidBackward>)"
      ]
     },
     "execution_count": 52,
     "metadata": {},
     "output_type": "execute_result"
    }
   ],
   "source": [
    "output = model.forward(contoh_data)\n",
    "# output = model(contoh_data)\n",
    "output"
   ]
  },
  {
   "cell_type": "code",
   "execution_count": null,
   "metadata": {},
   "outputs": [],
   "source": []
  }
 ],
 "metadata": {
  "kernelspec": {
   "display_name": "Python [conda env:jcopdl]",
   "language": "python",
   "name": "conda-env-jcopdl-py"
  },
  "language_info": {
   "codemirror_mode": {
    "name": "ipython",
    "version": 3
   },
   "file_extension": ".py",
   "mimetype": "text/x-python",
   "name": "python",
   "nbconvert_exporter": "python",
   "pygments_lexer": "ipython3",
   "version": "3.7.6"
  }
 },
 "nbformat": 4,
 "nbformat_minor": 4
}
